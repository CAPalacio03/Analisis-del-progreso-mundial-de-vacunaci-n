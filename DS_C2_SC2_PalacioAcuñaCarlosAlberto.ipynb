{
 "cells": [
  {
   "attachments": {},
   "cell_type": "markdown",
   "metadata": {},
   "source": [
    "A. Extraer información del archivo"
   ]
  },
  {
   "cell_type": "code",
   "execution_count": 2,
   "metadata": {},
   "outputs": [],
   "source": [
    "import numpy as np\n",
    "import pandas as pd \n",
    "\n",
    "df = pd.read_csv('country_vaccinations.csv')"
   ]
  },
  {
   "attachments": {},
   "cell_type": "markdown",
   "metadata": {},
   "source": [
    "B. Mostrar la estructura y tipos de datos de cada columna para identificar qué operaciones puedes realizar con cada una de ellas, asegurándote que las columnas con fechas sean del tipo **datetime64**."
   ]
  },
  {
   "cell_type": "code",
   "execution_count": 3,
   "metadata": {},
   "outputs": [
    {
     "name": "stdout",
     "output_type": "stream",
     "text": [
      "<class 'pandas.core.frame.DataFrame'>\n",
      "RangeIndex: 86512 entries, 0 to 86511\n",
      "Data columns (total 15 columns):\n",
      " #   Column                               Non-Null Count  Dtype         \n",
      "---  ------                               --------------  -----         \n",
      " 0   country                              86512 non-null  object        \n",
      " 1   iso_code                             86512 non-null  object        \n",
      " 2   date                                 86512 non-null  datetime64[ns]\n",
      " 3   total_vaccinations                   43607 non-null  float64       \n",
      " 4   people_vaccinated                    41294 non-null  float64       \n",
      " 5   people_fully_vaccinated              38802 non-null  float64       \n",
      " 6   daily_vaccinations_raw               86512 non-null  float64       \n",
      " 7   daily_vaccinations                   86213 non-null  float64       \n",
      " 8   total_vaccinations_per_hundred       43607 non-null  float64       \n",
      " 9   people_vaccinated_per_hundred        41294 non-null  float64       \n",
      " 10  people_fully_vaccinated_per_hundred  38802 non-null  float64       \n",
      " 11  daily_vaccinations_per_million       86213 non-null  float64       \n",
      " 12  vaccines                             86512 non-null  object        \n",
      " 13  source_name                          86512 non-null  object        \n",
      " 14  source_website                       86512 non-null  object        \n",
      "dtypes: datetime64[ns](1), float64(9), object(5)\n",
      "memory usage: 9.9+ MB\n"
     ]
    }
   ],
   "source": [
    "\n",
    "df['date'] =  pd.to_datetime(df['date'])\n",
    "df['daily_vaccinations_raw'].fillna(0, inplace=True)\n",
    "df.info()"
   ]
  },
  {
   "attachments": {},
   "cell_type": "markdown",
   "metadata": {},
   "source": [
    "C. Determinar la cantidad de vacunas aplicadas de cada compañía (con base en cómo lo reporta cada país en la columna vaccines, en otras palabras, agrupe por vaccines y realice la sumatoria)."
   ]
  },
  {
   "cell_type": "code",
   "execution_count": 4,
   "metadata": {},
   "outputs": [
    {
     "name": "stdout",
     "output_type": "stream",
     "text": [
      "                                                    daily_vaccinations\n",
      "vaccines                                                              \n",
      "Abdala, Johnson&Johnson, Oxford/AstraZeneca, Pf...           9616160.0\n",
      "Abdala, Moderna, Oxford/AstraZeneca, Pfizer/Bio...         201816053.0\n",
      "Abdala, Sinopharm/Beijing, Sinovac, Soberana02,...          37861146.0\n",
      "Abdala, Soberana Plus, Soberana02                           33802957.0\n",
      "COVIran Barekat, Covaxin, FAKHRAVAC, Oxford/Ast...         146357015.0\n",
      "...                                                                ...\n",
      "Pfizer/BioNTech, Sinovac, Turkovac                         147484328.0\n",
      "Pfizer/BioNTech, Sputnik V                                     68643.0\n",
      "QazVac, Sinopharm/Beijing, Sputnik V                        20891256.0\n",
      "Sinopharm/Beijing                                             893824.0\n",
      "Sinopharm/Beijing, Sputnik V                                14398697.0\n",
      "\n",
      "[84 rows x 1 columns]\n"
     ]
    }
   ],
   "source": [
    "vaccoines_by_company =  df[['daily_vaccinations','vaccines']].groupby('vaccines').sum()\n",
    "print(vaccoines_by_company)"
   ]
  },
  {
   "attachments": {},
   "cell_type": "markdown",
   "metadata": {},
   "source": [
    "D. Obtener la cantidad de vacunas aplicadas en todo el mundo."
   ]
  },
  {
   "cell_type": "code",
   "execution_count": 5,
   "metadata": {},
   "outputs": [
    {
     "name": "stdout",
     "output_type": "stream",
     "text": [
      "Las vacunas aplicadas en todo el mundo son: 11320239871.0\n"
     ]
    }
   ],
   "source": [
    "vaccines_applied_around_word = df['daily_vaccinations'].sum()\n",
    "print(f'Las vacunas aplicadas en todo el mundo son: {vaccines_applied_around_word}')"
   ]
  },
  {
   "attachments": {},
   "cell_type": "markdown",
   "metadata": {},
   "source": [
    "E. Calcular el promedio de vacunas aplicadas por país"
   ]
  },
  {
   "cell_type": "code",
   "execution_count": 6,
   "metadata": {},
   "outputs": [
    {
     "name": "stdout",
     "output_type": "stream",
     "text": [
      "El número promdeio de vacunas aplicadas por país \n",
      "                    daily_vaccinations\n",
      "country                              \n",
      "Afghanistan                  14610.68\n",
      "Albania                       6276.21\n",
      "Algeria                      33904.36\n",
      "Andorra                        367.72\n",
      "Angola                       44821.46\n",
      "...                               ...\n",
      "Wales                        15518.41\n",
      "Wallis and Futuna               33.89\n",
      "Yemen                         2556.12\n",
      "Zambia                        9649.81\n",
      "Zimbabwe                     21669.07\n",
      "\n",
      "[223 rows x 1 columns]\n"
     ]
    }
   ],
   "source": [
    "average_vaccines_in_county = df[['country','daily_vaccinations']].groupby('country').mean().round(2)\n",
    "print(f'El número promdeio de vacunas aplicadas por país \\n {average_vaccines_in_county}')"
   ]
  },
  {
   "attachments": {},
   "cell_type": "markdown",
   "metadata": {},
   "source": [
    "F. Determinar la cantidad de vacunas aplicadas el día 29/01/21 en todo el mundo."
   ]
  },
  {
   "cell_type": "code",
   "execution_count": 7,
   "metadata": {},
   "outputs": [
    {
     "name": "stdout",
     "output_type": "stream",
     "text": [
      "El numero de vacunas aplicas el 29 de Enero fueron: 4884052.0\n"
     ]
    }
   ],
   "source": [
    "vacciones_applied_on_29th_January = df[['date','daily_vaccinations']].query('date == \"2021-01-29\"')\n",
    "number_of_vacciones_applied_on_29th_January = vacciones_applied_on_29th_January['daily_vaccinations'].sum()\n",
    "print(f'El numero de vacunas aplicas el 29 de Enero fueron: {number_of_vacciones_applied_on_29th_January}')"
   ]
  },
  {
   "attachments": {},
   "cell_type": "markdown",
   "metadata": {},
   "source": [
    "G. Crear un dataframe nuevo denominado conDiferencias que contenga los datos originales y una columna derivada (diferencias) con las diferencias de aplicación entre las columnas daily_vaccionations y daily_vaccionations_raw."
   ]
  },
  {
   "cell_type": "code",
   "execution_count": 8,
   "metadata": {},
   "outputs": [],
   "source": [
    "conDiferencias = df.copy()\n",
    "conDiferencias['diferencias'] = conDiferencias['daily_vaccinations'] - conDiferencias['daily_vaccinations_raw']"
   ]
  },
  {
   "attachments": {},
   "cell_type": "markdown",
   "metadata": {},
   "source": [
    "H. Obtener el periodo de tiempo entre el registro con fecha más reciente y el registro con fecha más antigua."
   ]
  },
  {
   "cell_type": "code",
   "execution_count": 9,
   "metadata": {},
   "outputs": [
    {
     "name": "stdout",
     "output_type": "stream",
     "text": [
      "El periodo de tiempo entre el registro más reciente y el más antiguo son 482 days 00:00:00\n"
     ]
    }
   ],
   "source": [
    "date = df['date'].max() - df['date'].min()\n",
    "print(f'El periodo de tiempo entre el registro más reciente y el más antiguo son {date}')"
   ]
  },
  {
   "attachments": {},
   "cell_type": "markdown",
   "metadata": {},
   "source": [
    "I. Crear un dataframe nuevo denominado conCantidad que contenga los datos originales y una columna derivada (canVac) con la cantidad de vacunas utilizadas cada día (usar la columna vaccines y separar por el carácter , )."
   ]
  },
  {
   "cell_type": "code",
   "execution_count": 10,
   "metadata": {},
   "outputs": [],
   "source": [
    "conCantidad = df.copy()\n",
    "conCantidad['canVac'] = conCantidad['vaccines'].str.split(',').str.len()"
   ]
  },
  {
   "attachments": {},
   "cell_type": "markdown",
   "metadata": {},
   "source": [
    "J. Generar un dataframe denominado antes20 con todos los registros que se hayan realizado\n",
    "antes del 20 de diciembre de 2020."
   ]
  },
  {
   "cell_type": "code",
   "execution_count": 11,
   "metadata": {},
   "outputs": [],
   "source": [
    "antes20 = df.query('date < \"2020-12-20\"')"
   ]
  },
  {
   "attachments": {},
   "cell_type": "markdown",
   "metadata": {},
   "source": [
    "K. Obtener un dataframe denominado pfizer con todos los registros donde se haya utilizado la vacuna Pfizer"
   ]
  },
  {
   "cell_type": "code",
   "execution_count": 12,
   "metadata": {},
   "outputs": [],
   "source": [
    "pfizer = df[df['vaccines'].str.contains('Pfizer')]"
   ]
  },
  {
   "attachments": {},
   "cell_type": "markdown",
   "metadata": {},
   "source": [
    "L. Almacenar los dataframes generados (conDiferencias, conCantidad, antes20 y pfizer) en un archivo de Excel denominado resultadosReto.xlsx, donde cada dataframe ocupe una hoja diferente. Se recomienda ver la documentación de pd.ExcelWriter."
   ]
  },
  {
   "cell_type": "code",
   "execution_count": 14,
   "metadata": {},
   "outputs": [],
   "source": [
    "with pd.ExcelWriter('resultadosReto.xlsx') as writer:\n",
    "  conDiferencias.to_excel(writer, sheet_name='conDiferencias')\n",
    "  conCantidad.to_excel(writer, sheet_name='conCantidad')\n",
    "  antes20.to_excel(writer, sheet_name='antes20')\n",
    "  pfizer.to_excel(writer, sheet_name='pfizer')"
   ]
  }
 ],
 "metadata": {
  "kernelspec": {
   "display_name": "myenv",
   "language": "python",
   "name": "python3"
  },
  "language_info": {
   "codemirror_mode": {
    "name": "ipython",
    "version": 3
   },
   "file_extension": ".py",
   "mimetype": "text/x-python",
   "name": "python",
   "nbconvert_exporter": "python",
   "pygments_lexer": "ipython3",
   "version": "3.9.13"
  },
  "orig_nbformat": 4
 },
 "nbformat": 4,
 "nbformat_minor": 2
}
